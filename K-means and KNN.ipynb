{
 "cells": [
  {
   "cell_type": "markdown",
   "metadata": {},
   "source": [
    "### K-means clustering program"
   ]
  },
  {
   "cell_type": "code",
   "execution_count": 1,
   "metadata": {},
   "outputs": [],
   "source": [
    "# pick random initial centroids\n",
    "def random_centroids(x, k, seed = True):\n",
    "    import random\n",
    "    if seed == True:\n",
    "        random.seed(1)\n",
    "    random_index = []\n",
    "    for i in range(k):\n",
    "        random_index.append(random.randint(0, len(x)))\n",
    "    return random_index"
   ]
  },
  {
   "cell_type": "code",
   "execution_count": 2,
   "metadata": {},
   "outputs": [],
   "source": [
    "# Euclidean distance\n",
    "def compute_ed(vector_1, vector_2):\n",
    "    if len(vector_1)!= len(vector_2):\n",
    "        print('Error : not same length')\n",
    "        return None\n",
    "    distance = 0\n",
    "    for i in range(len(vector_1)):\n",
    "        distance += (vector_1[i]- vector_2[i])**2\n",
    "    return (distance**(1/2))"
   ]
  },
  {
   "cell_type": "code",
   "execution_count": 3,
   "metadata": {},
   "outputs": [],
   "source": [
    "def Kmeans(input_data, k, min_diff = 0.1, iteration_count = 10, seed = True):\n",
    "    '''\n",
    "    Implements the K-means algorithm\n",
    "    \n",
    "    Parameters\n",
    "    ----------\n",
    "    input_data : Nested list\n",
    "        Contains the data which need to be clustered\n",
    "    k : int\n",
    "        Number of clusters to be made\n",
    "    min_diff : float\n",
    "        Minimum difference to tolerate when centroids begin to converge. \n",
    "        Stops iteration when difference between successive centroids equal ``min_diff`` or iterations equal ``iteration_count``       \n",
    "    iteration_count : int\n",
    "        Number of iterations to be performed.\n",
    "        Stops iterations if this many iterations are performed or minimun difference equals ``min_diff``\n",
    "    seed : bool\n",
    "        If True then seed to generate random centroids is set to 1\n",
    "    \n",
    "    Returns\n",
    "    -------\n",
    "    centroids : list \n",
    "    clusters : dict\n",
    "        With keys corresponding to the index of ``centroids``\n",
    "    '''\n",
    "    random_index = random_centroids(input_data, k, seed)\n",
    "    # initial random centroids\n",
    "    centroids = [input_data[i] for i in random_index]\n",
    "    \n",
    "    diff = 9*10e7\n",
    "    while (iteration_count >= 0) and (diff >= min_diff):\n",
    "        # creating dictionary in the form {row: closeset centroid index}\n",
    "        dist = {row_index:[] for row_index in range(len(input_data))}\n",
    "        for row_index, row in enumerate(input_data):\n",
    "            for centroid in centroids:\n",
    "                dist[row_index].append(compute_ed(centroid, row))\n",
    "            closest_centroid = dist[row_index].index(sorted(dist[row_index])[0])\n",
    "            dist[row_index] =  closest_centroid\n",
    "    \n",
    "        # segregating input_data into clusters\n",
    "        clusters = {v:[] for v in dist.values()}\n",
    "        for c in range(len(centroids)):\n",
    "            for key, val in dist.items():\n",
    "                if val == c:\n",
    "                    clusters[c].append(input_data[key])\n",
    "    \n",
    "        # computing new centroids\n",
    "        ncols = len(input_data[0])\n",
    "        old_centroids = centroids.copy()\n",
    "        centroids.clear()\n",
    "        for key in clusters:\n",
    "            sums = [0 for i in range(ncols)]\n",
    "            for row in clusters[key]:\n",
    "                i = 0\n",
    "                while i < ncols:\n",
    "                    sums[i] += row[i]\n",
    "                    i += 1\n",
    "            i = 0\n",
    "            while i < ncols:\n",
    "                sums[i] = sums[i]/len(clusters[key])\n",
    "                i += 1\n",
    "            centroids.append(sums)\n",
    "                \n",
    "        # checking convergence\n",
    "        diff = []\n",
    "        for i in range(len(centroids)):\n",
    "            for j in range(len(centroids[i])):\n",
    "                diff.append(abs(centroids[i][j]-old_centroids[i][j]))\n",
    "        diff = max(diff)\n",
    "        iteration_count-=1\n",
    "    return(centroids, clusters)"
   ]
  },
  {
   "cell_type": "code",
   "execution_count": 4,
   "metadata": {},
   "outputs": [],
   "source": [
    "input_data = [[5.1,3.5,1.4,0.2],\n",
    "#cluster1\n",
    "[4.9,3,1.4,0.2],\n",
    "[4.7,3.2,1.3,0.2],\n",
    "[4.6,3.1,1.5,0.2],\n",
    "[5,3.6,1.4,0.2],\n",
    "[5.4,3.9,1.7,0.4],\n",
    "[4.6,3.4,1.4,0.3],\n",
    "#cluster2\n",
    "[7,3.2,4.7,1.4],\n",
    "[6.4,3.2,4.5,1.5],\n",
    "[6.9,3.1,4.9,1.5],\n",
    "[5.5,2.3,4,1.3],\n",
    "[6.5,2.8,4.6,1.5],\n",
    "[5.7,2.8,4.5,1.3],\n",
    "[6.3,3.3,4.7,1.6],\n",
    "[4.9,2.4,3.3,1],\n",
    "[6.6,2.9,4.6,1.3],\n",
    "[5.2,2.7,3.9,1.4],\n",
    "[5,2,3.5,1],\n",
    "[5.9,3,4.2,1.5],\n",
    "[6,2.2,4,1],\n",
    "[6.1,2.9,4.7,1.4],\n",
    "[5.6,2.9,3.6,1.3],\n",
    "#cluster3\n",
    "[5.8,2.7,5.1,1.9],\n",
    "[7.1,3,5.9,2.1],\n",
    "[6.3,2.9,5.6,1.8],\n",
    "[6.5,3,5.8,2.2],\n",
    "[7.6,3,6.6,2.1],\n",
    "[4.9,2.5,4.5,1.7],\n",
    "[7.3,2.9,6.3,1.8]]\n",
    "\n",
    "centroids, clusters = Kmeans(input_data, \n",
    "                             k = 3, \n",
    "                             min_diff = 0.1, \n",
    "                             iteration_count = 10, \n",
    "                             seed = True)"
   ]
  },
  {
   "cell_type": "code",
   "execution_count": 5,
   "metadata": {},
   "outputs": [
    {
     "data": {
      "text/plain": [
       "[[4.8999999999999995,\n",
       "  3.3857142857142852,\n",
       "  1.4428571428571428,\n",
       "  0.24285714285714285],\n",
       " [6.646153846153846,\n",
       "  2.9923076923076923,\n",
       "  5.230769230769231,\n",
       "  1.7000000000000002],\n",
       " [5.411111111111111,\n",
       "  2.533333333333333,\n",
       "  3.9444444444444446,\n",
       "  1.2777777777777777]]"
      ]
     },
     "execution_count": 5,
     "metadata": {},
     "output_type": "execute_result"
    }
   ],
   "source": [
    "centroids"
   ]
  },
  {
   "cell_type": "code",
   "execution_count": 6,
   "metadata": {},
   "outputs": [
    {
     "data": {
      "text/plain": [
       "{0: [[5.1, 3.5, 1.4, 0.2],\n",
       "  [4.9, 3, 1.4, 0.2],\n",
       "  [4.7, 3.2, 1.3, 0.2],\n",
       "  [4.6, 3.1, 1.5, 0.2],\n",
       "  [5, 3.6, 1.4, 0.2],\n",
       "  [5.4, 3.9, 1.7, 0.4],\n",
       "  [4.6, 3.4, 1.4, 0.3]],\n",
       " 1: [[7, 3.2, 4.7, 1.4],\n",
       "  [6.4, 3.2, 4.5, 1.5],\n",
       "  [6.9, 3.1, 4.9, 1.5],\n",
       "  [6.5, 2.8, 4.6, 1.5],\n",
       "  [6.3, 3.3, 4.7, 1.6],\n",
       "  [6.6, 2.9, 4.6, 1.3],\n",
       "  [6.1, 2.9, 4.7, 1.4],\n",
       "  [5.8, 2.7, 5.1, 1.9],\n",
       "  [7.1, 3, 5.9, 2.1],\n",
       "  [6.3, 2.9, 5.6, 1.8],\n",
       "  [6.5, 3, 5.8, 2.2],\n",
       "  [7.6, 3, 6.6, 2.1],\n",
       "  [7.3, 2.9, 6.3, 1.8]],\n",
       " 2: [[5.5, 2.3, 4, 1.3],\n",
       "  [5.7, 2.8, 4.5, 1.3],\n",
       "  [4.9, 2.4, 3.3, 1],\n",
       "  [5.2, 2.7, 3.9, 1.4],\n",
       "  [5, 2, 3.5, 1],\n",
       "  [5.9, 3, 4.2, 1.5],\n",
       "  [6, 2.2, 4, 1],\n",
       "  [5.6, 2.9, 3.6, 1.3],\n",
       "  [4.9, 2.5, 4.5, 1.7]]}"
      ]
     },
     "execution_count": 6,
     "metadata": {},
     "output_type": "execute_result"
    }
   ],
   "source": [
    "clusters"
   ]
  },
  {
   "cell_type": "markdown",
   "metadata": {},
   "source": [
    "### KNN function"
   ]
  },
  {
   "cell_type": "code",
   "execution_count": 7,
   "metadata": {},
   "outputs": [],
   "source": [
    "def KNN(x, y, test_x, k, task = 'regression'):\n",
    "    '''\n",
    "    Returns the predicted target value for a given ``test_x`` based on it's k neareast neighbors calculated by Euclidean distance. \n",
    "    In the event of a tie in a classification task, the label of the first neighbor is returned.\n",
    "    \n",
    "    Parameters\n",
    "    ----------\n",
    "    x : Nested list\n",
    "        Data-points\n",
    "    y : Iterable\n",
    "        Represents values of the target of the corresponding rows in x\n",
    "    test_x : Iterable \n",
    "        A data-point for which the target value needs to be computed\n",
    "    k : int\n",
    "        Non-negative number of neighbors\n",
    "    task :{\"regression\", \"classification\"}, default = \"regression\"\n",
    "        Regression or classification task\n",
    "    \n",
    "    Returns\n",
    "    -------\n",
    "    A prediction of y for test_x\n",
    "    '''\n",
    "    \n",
    "    #Euclidean dist fucntion\n",
    "    def eu_d(v1, v2):\n",
    "        if len(v1)!= len(v2):\n",
    "            print('Vectors are not of same length')\n",
    "            return None\n",
    "        d = 0\n",
    "        for i in range(len(v1)):\n",
    "            d += (v1[i]-v2[i])**2\n",
    "        return d**(1/2)\n",
    "    \n",
    "    #Dictionary with key as index of x datapoints and the Euclidean dist for the value \n",
    "    dist = {}\n",
    "    for i in range(len(x)):\n",
    "        dist[i] =  eu_d(test_x, x[i])\n",
    "    \n",
    "    #List of indices of the k nearest neighbhours \n",
    "    index =[]\n",
    "    for i, j in dist.items():\n",
    "        if j in sorted(dist.values())[:k]:\n",
    "            index.append(i)\n",
    "    \n",
    "    #Dictionary containing nearest neighbhours and their frequency\n",
    "    frequency = {}\n",
    "    for i in index:\n",
    "            frequency[y[i]] = frequency.get(y[i],0) + 1\n",
    "    if task == 'classification':\n",
    "        for key, val in frequency.items():\n",
    "            if val == max(frequency.values()):\n",
    "                prediction = key\n",
    "                break\n",
    "    elif task == 'regression':\n",
    "        Sum = 0\n",
    "        for key, val in frequency.items():\n",
    "            Sum += key*val\n",
    "        prediction = Sum/k\n",
    "    return prediction"
   ]
  },
  {
   "cell_type": "code",
   "execution_count": 8,
   "metadata": {},
   "outputs": [
    {
     "data": {
      "text/plain": [
       "'A'"
      ]
     },
     "execution_count": 8,
     "metadata": {},
     "output_type": "execute_result"
    }
   ],
   "source": [
    "k =2\n",
    "\n",
    "x = [\n",
    "    [1,1,1,1],\n",
    "    [2,2,2,2],\n",
    "    [3,3,3,3],\n",
    "    [6,6,6,6]\n",
    "    ]\n",
    "y = [\"A\", \"B\", \"C\", \"D\"]\n",
    "\n",
    "test_x = [0.9, 1.4, 0.87, 0.76]\n",
    "\n",
    "KNN(x, \n",
    "    y, \n",
    "    test_x, \n",
    "    k, \n",
    "    task = 'classification')"
   ]
  }
 ],
 "metadata": {
  "kernelspec": {
   "display_name": "Python 3",
   "language": "python",
   "name": "python3"
  },
  "language_info": {
   "codemirror_mode": {
    "name": "ipython",
    "version": 3
   },
   "file_extension": ".py",
   "mimetype": "text/x-python",
   "name": "python",
   "nbconvert_exporter": "python",
   "pygments_lexer": "ipython3",
   "version": "3.8.5"
  }
 },
 "nbformat": 4,
 "nbformat_minor": 4
}
